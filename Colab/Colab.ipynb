{
 "cells": [
  {
   "cell_type": "code",
   "execution_count": null,
   "metadata": {
    "colab": {
     "base_uri": "https://localhost:8080/",
     "height": 122
    },
    "colab_type": "code",
    "executionInfo": {
     "elapsed": 70818,
     "status": "ok",
     "timestamp": 1561282285885,
     "user": {
      "displayName": "Александр Романович Рубинштейн",
      "photoUrl": "",
      "userId": "11109012592331712307"
     },
     "user_tz": -180
    },
    "id": "i5prPlcEMPl9",
    "outputId": "9ac632b6-7516-40a4-809c-47d9eff8d242"
   },
   "outputs": [],
   "source": [
    "from google.colab import drive\n",
    "drive.mount('/content/drive/')"
   ]
  },
  {
   "cell_type": "code",
   "execution_count": null,
   "metadata": {
    "colab": {},
    "colab_type": "code",
    "id": "7PjUFAJDMt5x"
   },
   "outputs": [],
   "source": [
    "import os\n",
    "os.chdir(\"drive/My Drive/app/SemSeg\")"
   ]
  },
  {
   "cell_type": "code",
   "execution_count": null,
   "metadata": {
    "colab": {
     "base_uri": "https://localhost:8080/",
     "height": 34
    },
    "colab_type": "code",
    "executionInfo": {
     "elapsed": 11310,
     "status": "ok",
     "timestamp": 1561282311152,
     "user": {
      "displayName": "Александр Романович Рубинштейн",
      "photoUrl": "",
      "userId": "11109012592331712307"
     },
     "user_tz": -180
    },
    "id": "b5NkqgKNM1VN",
    "outputId": "13bcbeee-34a7-42e8-a383-5673d30a7611"
   },
   "outputs": [],
   "source": [
    "!pip install -q keras\n",
    "!pip install -q rasterio"
   ]
  },
  {
   "cell_type": "code",
   "execution_count": null,
   "metadata": {
    "colab": {
     "base_uri": "https://localhost:8080/",
     "height": 34
    },
    "colab_type": "code",
    "executionInfo": {
     "elapsed": 3108,
     "status": "ok",
     "timestamp": 1560078299932,
     "user": {
      "displayName": "Александр Романович Рубинштейн",
      "photoUrl": "",
      "userId": "11109012592331712307"
     },
     "user_tz": -180
    },
    "id": "KxCY20UUM5DN",
    "outputId": "f94e74e5-fabe-4418-b156-9a46624e11ad"
   },
   "outputs": [],
   "source": [
    "import tensorflow as tf\n",
    "tf.test.gpu_device_name()"
   ]
  },
  {
   "cell_type": "code",
   "execution_count": null,
   "metadata": {
    "colab": {},
    "colab_type": "code",
    "id": "br8YHGS6Msac"
   },
   "outputs": [],
   "source": [
    "!cd src && python -m semseg.data.factory --preprocess"
   ]
  },
  {
   "cell_type": "code",
   "execution_count": null,
   "metadata": {
    "colab": {},
    "colab_type": "code",
    "id": "_reW1hH_wSlS"
   },
   "outputs": [],
   "source": [
    "!cd src && python -m semseg.data.factory --plot"
   ]
  },
  {
   "cell_type": "code",
   "execution_count": null,
   "metadata": {
    "colab": {},
    "colab_type": "code",
    "id": "l0PXQcZrMcE0"
   },
   "outputs": [],
   "source": [
    "!cd src && python -m semseg.run experiments/tests/resnet_test.json\n",
    "\n"
   ]
  },
  {
   "cell_type": "code",
   "execution_count": null,
   "metadata": {
    "colab": {},
    "colab_type": "code",
    "id": "L1MEUijLlE7Q"
   },
   "outputs": [],
   "source": [
    "!cd src && python -m semseg.run experiments/4_7_17/fcn/fcn_resnet_irrg_cross_4.json"
   ]
  },
  {
   "cell_type": "code",
   "execution_count": null,
   "metadata": {
    "colab": {
     "base_uri": "https://localhost:8080/",
     "height": 7092
    },
    "colab_type": "code",
    "executionInfo": {
     "elapsed": 2473330,
     "status": "ok",
     "timestamp": 1561284820101,
     "user": {
      "displayName": "Александр Романович Рубинштейн",
      "photoUrl": "",
      "userId": "11109012592331712307"
     },
     "user_tz": -180
    },
    "id": "2hZRDx0Zs-FO",
    "outputId": "19e89390-b1aa-4f3d-eaa2-6078f454c026"
   },
   "outputs": [],
   "source": [
    "!cd src && python -m semseg.run experiments/4_7_17/fcn/fcn_resnet_irrg_cross_4_halved.json validation_eval"
   ]
  },
  {
   "cell_type": "code",
   "execution_count": null,
   "metadata": {
    "colab": {},
    "colab_type": "code",
    "id": "uW5y5BtMGtWn"
   },
   "outputs": [],
   "source": [
    "!cd src && python -m semseg.run experiments/4_7_17/fcn/fcn_resnet_irrg_cross_4_halved.json train_model"
   ]
  },
  {
   "cell_type": "code",
   "execution_count": null,
   "metadata": {
    "colab": {
     "base_uri": "https://localhost:8080/",
     "height": 255
    },
    "colab_type": "code",
    "executionInfo": {
     "elapsed": 6704,
     "status": "ok",
     "timestamp": 1561282339680,
     "user": {
      "displayName": "Александр Романович Рубинштейн",
      "photoUrl": "",
      "userId": "11109012592331712307"
     },
     "user_tz": -180
    },
    "id": "BOPkYGL3XoZb",
    "outputId": "b13619f2-fd29-4ea9-efb2-64b92c49798b"
   },
   "outputs": [],
   "source": [
    "!cd src && python -m semseg.run experiments/tests/quick_test.json"
   ]
  }
 ],
 "metadata": {
  "accelerator": "GPU",
  "colab": {
   "collapsed_sections": [],
   "name": "testNets.ipynb",
   "provenance": [],
   "version": "0.3.2"
  },
  "kernelspec": {
   "display_name": "Python 3",
   "language": "python",
   "name": "python3"
  },
  "language_info": {
   "codemirror_mode": {
    "name": "ipython",
    "version": 3
   },
   "file_extension": ".py",
   "mimetype": "text/x-python",
   "name": "python",
   "nbconvert_exporter": "python",
   "pygments_lexer": "ipython3",
   "version": "3.7.3"
  }
 },
 "nbformat": 4,
 "nbformat_minor": 1
}
